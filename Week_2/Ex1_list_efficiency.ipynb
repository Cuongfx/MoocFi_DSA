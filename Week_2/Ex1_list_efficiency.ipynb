{
 "cells": [
  {
   "cell_type": "markdown",
   "id": "2c00fa33",
   "metadata": {},
   "source": [
    "# List efficiency I\n",
    "\n",
    "## Task\n",
    "Implement a test, where the numbers 1,2,…,n are added to the end of the list one at a time.  \n",
    "Then the last element of the list is deleted n times.  \n",
    "\n",
    "Implement the test with **n = 10^5**.  \n",
    "Make two time measurements:  \n",
    "- How much time it takes to do all the additions  \n",
    "- How much time it takes to do all the deletions  \n",
    "\n",
    "In this task you get a point automatically when you fill in your measurement results and the code used in the test, and press the submit button.\n",
    "\n",
    "---\n",
    "\n",
    "## Results\n",
    "- Time for additions: … s  \n",
    "- Time for deletions: … s  \n",
    "\n",
    "---"
   ]
  },
  {
   "cell_type": "code",
   "execution_count": 2,
   "id": "a3492dce",
   "metadata": {},
   "outputs": [
    {
     "name": "stdout",
     "output_type": "stream",
     "text": [
      "Time for additions: 0.006366 s\n",
      "Time for deletions: 0.005972 s\n"
     ]
    }
   ],
   "source": [
    "import time\n",
    "\n",
    "list_eff = []\n",
    "\n",
    "start_time_1 = time.time()\n",
    "for i in range(1, 10**5 + 1):\n",
    "    list_eff.append(i)\n",
    "end_time_1 = time.time()\n",
    "dif_1 = end_time_1 - start_time_1 \n",
    "\n",
    "start_time_2 = time.time()\n",
    "for i in range(len(list_eff)):\n",
    "    list_eff.pop()\n",
    "end_time_2 = time.time()\n",
    "dif_2 = end_time_2 - start_time_2  \n",
    "\n",
    "print(f\"Time for additions: {dif_1:.6f} s\")\n",
    "print(f\"Time for deletions: {dif_2:.6f} s\")"
   ]
  },
  {
   "cell_type": "markdown",
   "id": "13bb35ae",
   "metadata": {},
   "source": [
    "# List Efficiency II\n",
    "\n",
    "## Task\n",
    "Implement a test, where the numbers 1, 2, …, n are added to the end of the list one at a time.  \n",
    "Then the **first element** of the list is deleted `n` times.\n",
    "\n",
    "Implement the test with `n = 10^5`.  \n",
    "Make two time measurements:\n",
    "- How much time it takes to do all the additions  \n",
    "- How much time it takes to do all the deletions  \n",
    "\n",
    "In this task you get a point automatically when you fill in your measurement results and the code used in the test, and press the submit button.\n",
    "\n",
    "---"
   ]
  },
  {
   "cell_type": "code",
   "execution_count": 4,
   "id": "cd8d9eb2",
   "metadata": {},
   "outputs": [
    {
     "name": "stdout",
     "output_type": "stream",
     "text": [
      "Time for additions: 0.006928 s\n",
      "Time for deletions: 0.853175 s\n"
     ]
    }
   ],
   "source": [
    "import time\n",
    "\n",
    "list_eff = []\n",
    "\n",
    "start_time_1 = time.time()\n",
    "for i in range(1, 10**5 + 1):\n",
    "    list_eff.append(i)\n",
    "end_time_1 = time.time()\n",
    "dif_1 = end_time_1 - start_time_1 \n",
    "\n",
    "start_time_2 = time.time()\n",
    "for i in range(len(list_eff)):\n",
    "    list_eff.pop(0)\n",
    "    # print(list_eff)\n",
    "end_time_2 = time.time()\n",
    "dif_2 = end_time_2 - start_time_2  \n",
    "\n",
    "print(f\"Time for additions: {dif_1:.6f} s\")\n",
    "print(f\"Time for deletions: {dif_2:.6f} s\")"
   ]
  },
  {
   "cell_type": "code",
   "execution_count": null,
   "id": "2e0f2948",
   "metadata": {},
   "outputs": [],
   "source": []
  }
 ],
 "metadata": {
  "kernelspec": {
   "display_name": "base",
   "language": "python",
   "name": "python3"
  },
  "language_info": {
   "codemirror_mode": {
    "name": "ipython",
    "version": 3
   },
   "file_extension": ".py",
   "mimetype": "text/x-python",
   "name": "python",
   "nbconvert_exporter": "python",
   "pygments_lexer": "ipython3",
   "version": "3.12.9"
  }
 },
 "nbformat": 4,
 "nbformat_minor": 5
}
