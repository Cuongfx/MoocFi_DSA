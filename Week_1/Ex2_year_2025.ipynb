{
 "cells": [
  {
   "cell_type": "markdown",
   "id": "71bc652f",
   "metadata": {},
   "source": [
    "# 📅 Year 2025\n",
    "\n",
    "The year **2025** is special because:\n",
    "\n",
    "```\n",
    "(20 + 25)^2 = 2025\n",
    "```\n",
    "\n",
    "In other words, the year is the **square of the sum of its first and second halves**.\n",
    "\n",
    "---\n",
    "\n",
    "## 💻 Your Task\n",
    "\n",
    "In a file named `special.py`, implement a function called `check_year` that **determines whether a given year is special**.\n",
    "\n",
    "### Function Signature\n",
    "\n",
    "```python\n",
    "def check_year(year: int) -> bool:\n",
    "```\n",
    "\n",
    "---\n",
    "\n",
    "## 🔎 Explanation\n",
    "\n",
    "A year is **special** if:\n",
    "\n",
    "```python\n",
    "(int(str(year)[:2]) + int(str(year)[2:])) ** 2 == year\n",
    "```\n",
    "\n",
    "For example:\n",
    "\n",
    "- `year = 2025`\n",
    "- `first_half = 20`, `second_half = 25`\n",
    "- `(20 + 25)^2 = 45^2 = 2025` ✅\n",
    "\n",
    "---\n",
    "\n",
    "## ✅ Requirements\n",
    "\n",
    "- Your function should return `True` if the year is special, and `False` otherwise.\n",
    "- The function will be tested with **many different years**.\n",
    "- Each test case will be a **4-digit year** in the range `1000–9999`.\n",
    "\n",
    "---\n",
    "\n",
    "## 🧪 Example\n",
    "\n",
    "```python\n",
    ">>> check_year(2025)\n",
    "True\n",
    "\n",
    ">>> check_year(3025)\n",
    "True\n",
    "\n",
    ">>> check_year(2024)\n",
    "False\n",
    "```\n"
   ]
  },
  {
   "cell_type": "code",
   "execution_count": 6,
   "id": "8a05a306",
   "metadata": {},
   "outputs": [
    {
     "name": "stdout",
     "output_type": "stream",
     "text": [
      "False\n",
      "False\n",
      "True\n",
      "False\n",
      "True\n",
      "False\n"
     ]
    }
   ],
   "source": [
    "def check_year(year):\n",
    "    year_str = str(year)\n",
    "    front = int(year_str[:2]) \n",
    "    end = int(year_str[2:])   \n",
    "    return (front + end) ** 2 == year\n",
    "    \n",
    "\n",
    "if __name__ == \"__main__\":\n",
    "    print(check_year(1995)) # False\n",
    "    print(check_year(2024)) # False\n",
    "    print(check_year(2025)) # True\n",
    "    print(check_year(2026)) # False\n",
    "    print(check_year(3025)) # True\n",
    "    print(check_year(5555)) # False\n",
    "    "
   ]
  },
  {
   "cell_type": "code",
   "execution_count": null,
   "id": "0d568705",
   "metadata": {},
   "outputs": [],
   "source": []
  }
 ],
 "metadata": {
  "kernelspec": {
   "display_name": "Python 3",
   "language": "python",
   "name": "python3"
  },
  "language_info": {
   "codemirror_mode": {
    "name": "ipython",
    "version": 3
   },
   "file_extension": ".py",
   "mimetype": "text/x-python",
   "name": "python",
   "nbconvert_exporter": "python",
   "pygments_lexer": "ipython3",
   "version": "3.10.2"
  }
 },
 "nbformat": 4,
 "nbformat_minor": 5
}
