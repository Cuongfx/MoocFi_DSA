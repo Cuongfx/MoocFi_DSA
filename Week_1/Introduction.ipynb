{
 "cells": [
  {
   "cell_type": "markdown",
   "id": "c895d888",
   "metadata": {},
   "source": [
    "# 1. Introduction\n",
    "\n",
    "The aim of the course **Data Structures and Algorithms** is to advance your programming skills and teach you techniques and ways of thinking that help you in implementing programs that are correct and efficient in all circumstances.\n",
    "\n",
    "The course uses the **Python** language, but the techniques taught are applicable to other programming languages as well. The course involves a lot of programming, but some theoretical ideas and concepts are covered too.\n",
    "\n",
    "---\n",
    "\n",
    "## What is an Algorithm?\n",
    "\n",
    "An **algorithm** is a method for solving some computational problem.  \n",
    "When implemented in a programming language, an algorithm can be executed on a computer.\n",
    "\n",
    "- **Input**: the initial data provided to the algorithm.  \n",
    "- **Output**: the result produced by the algorithm by the end of its execution.  \n",
    "\n",
    "In Python, an algorithm can be implemented as a **function**, where the input is given as function parameters and the output is the return value.\n",
    "\n",
    "---\n",
    "\n",
    "## Example: Counting Even Numbers\n",
    "\n",
    "Let us consider an example where the algorithm is given a list of numbers and the task is to count how many of them are even.\n",
    "\n",
    "For instance:\n",
    "\n",
    "- Input: `[5, 4, 1, 7, 9, 6]`  \n",
    "- Output: `2` (since `4` and `6` are even)\n",
    "\n",
    "### Idea\n",
    "The task can be solved by an algorithm that:\n",
    "1. Goes through each number in the list.\n",
    "2. Maintains a variable that stores the count of even numbers seen so far.\n",
    "\n",
    "---\n",
    "\n"
   ]
  },
  {
   "cell_type": "code",
   "execution_count": null,
   "id": "48b083ae",
   "metadata": {},
   "outputs": [
    {
     "ename": "",
     "evalue": "",
     "output_type": "error",
     "traceback": [
      "\u001b[1;31mRunning cells with 'Python 3.12.11' requires the ipykernel package.\n",
      "\u001b[1;31m<a href='command:jupyter.createPythonEnvAndSelectController'>Create a Python Environment</a> with the required packages."
     ]
    }
   ],
   "source": [
    "# Python Implementation\n",
    "\n",
    "def count_even(numbers):\n",
    "    count = 0\n",
    "    for num in numbers:\n",
    "        if num % 2 == 0:\n",
    "            count += 1\n",
    "    return count\n",
    "\n",
    "# Example usage\n",
    "print(count_even([5, 4, 1, 7, 9, 6]))  # Output: 2"
   ]
  },
  {
   "cell_type": "code",
   "execution_count": null,
   "id": "784806b9",
   "metadata": {},
   "outputs": [],
   "source": []
  }
 ],
 "metadata": {
  "kernelspec": {
   "display_name": "Python 3",
   "language": "python",
   "name": "python3"
  },
  "language_info": {
   "name": "python",
   "version": "3.12.11"
  }
 },
 "nbformat": 4,
 "nbformat_minor": 5
}
