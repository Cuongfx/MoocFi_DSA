{
 "cells": [
  {
   "cell_type": "markdown",
   "id": "7f525895",
   "metadata": {},
   "source": [
    "# 📦 Boxes\n",
    "\n",
    "Your task is to **pack products into boxes**. A given maximum number of products fits in each box.  \n",
    "How many boxes are needed **at least**?\n",
    "\n",
    "### Example\n",
    "\n",
    "If there are `10` products and `3` products fit in a box, you need **4 boxes**.  \n",
    "For instance, you could pack the products into boxes like:\n",
    "\n",
    "- 3 products\n",
    "- 3 products\n",
    "- 2 products\n",
    "- 2 products\n",
    "\n",
    "---\n",
    "\n",
    "## 💻 Implementation\n",
    "\n",
    "In a file named `boxes.py`, implement a function called `min_count` that returns the **smallest number of boxes needed**.\n",
    "\n",
    "### Function Signature\n",
    "\n",
    "```python\n",
    "def min_count(product_count: int, box_size: int) -> int:\n",
    "```\n",
    "\n",
    "### Parameters\n",
    "\n",
    "- `product_count`: The **total number of products**\n",
    "- `box_size`: The **number of products that fits in one box**\n",
    "\n",
    "---\n",
    "\n",
    "## ✅ Constraints\n",
    "\n",
    "- Both parameters are integers.\n",
    "- `1 ≤ product_count ≤ 100`\n",
    "- `1 ≤ box_size ≤ 100`\n",
    "\n",
    "Your function will be tested using a large number of test cases.\n"
   ]
  },
  {
   "cell_type": "code",
   "execution_count": 5,
   "id": "92a5e360",
   "metadata": {},
   "outputs": [
    {
     "name": "stdout",
     "output_type": "stream",
     "text": [
      "4\n",
      "3\n",
      "100\n",
      "1\n",
      "2\n",
      "1\n",
      "1\n"
     ]
    }
   ],
   "source": [
    "def min_count(product_count, box_size):\n",
    "    result = 0\n",
    "    if product_count <= 0 or box_size <=0:\n",
    "        return 0\n",
    "    return (product_count + box_size - 1) // box_size\n",
    "    \n",
    "\n",
    "if __name__ == \"__main__\":\n",
    "    print(min_count(10, 3)) # 4\n",
    "    print(min_count(10, 4)) # 3\n",
    "    print(min_count(100, 1)) # 100\n",
    "    print(min_count(100, 100)) # 1\n",
    "    print(min_count(100, 99)) # 2\n",
    "    print(min_count(5, 5)) # 1\n",
    "    print(min_count(5, 6)) # 1"
   ]
  },
  {
   "cell_type": "code",
   "execution_count": null,
   "id": "94fbf2dd",
   "metadata": {},
   "outputs": [],
   "source": []
  }
 ],
 "metadata": {
  "kernelspec": {
   "display_name": "Python 3",
   "language": "python",
   "name": "python3"
  },
  "language_info": {
   "codemirror_mode": {
    "name": "ipython",
    "version": 3
   },
   "file_extension": ".py",
   "mimetype": "text/x-python",
   "name": "python",
   "nbconvert_exporter": "python",
   "pygments_lexer": "ipython3",
   "version": "3.10.2"
  }
 },
 "nbformat": 4,
 "nbformat_minor": 5
}
