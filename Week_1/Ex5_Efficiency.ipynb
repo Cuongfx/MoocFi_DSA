{
 "cells": [
  {
   "cell_type": "markdown",
   "id": "174bf44b",
   "metadata": {},
   "source": [
    "# ⚙️ Efficiency Test\n",
    "\n",
    "## 📚 Task: CSES - Efficiency Test\n",
    "\n",
    "The course material includes two different ways to implement the function `count_even`. Your task is to compare their **efficiencies** using a list that contains `10^7` randomly chosen numbers.\n",
    "\n",
    "In this exercise, you get a point **automatically** when you submit:\n",
    "\n",
    "- The **test results**\n",
    "- The **code you used**\n",
    "\n",
    "---\n",
    "\n",
    "## 🧩 Implementation 1\n",
    "\n",
    "```python\n",
    "def count_even(numbers):\n",
    "    result = 0\n",
    "    for x in numbers:\n",
    "        if x % 2 == 0:\n",
    "            result += 1\n",
    "    return result\n",
    "```\n",
    "\n",
    "---\n",
    "\n",
    "## 🧩 Implementation 2\n",
    "\n",
    "```python\n",
    "def count_even(numbers):\n",
    "    return sum(x % 2 == 0 for x in numbers)\n",
    "```\n",
    "\n"
   ]
  },
  {
   "cell_type": "code",
   "execution_count": 2,
   "id": "bde2510e",
   "metadata": {},
   "outputs": [
    {
     "name": "stdout",
     "output_type": "stream",
     "text": [
      "count_even_1 → Even count: 5000000, Time: 0.542712 seconds\n",
      "count_even_2 → Even count: 5000000, Time: 1.064661 seconds\n"
     ]
    }
   ],
   "source": [
    "import random\n",
    "import time\n",
    "\n",
    "def count_time(count_even_func):\n",
    "    random.seed(1337)\n",
    "    numbers = [number for number in range(10**7)]\n",
    "    start_time = time.time()\n",
    "    result = count_even_func(numbers)\n",
    "    end_time = time.time()\n",
    "    elapsed_time = end_time - start_time\n",
    "    print(f\"{count_even_func.__name__} → Even count: {result}, Time: {elapsed_time:.6f} seconds\")\n",
    "\n",
    "def count_even_1(numbers):\n",
    "    result = 0\n",
    "    for x in numbers:\n",
    "        if x % 2 == 0:\n",
    "            result += 1\n",
    "    return result\n",
    "\n",
    "def count_even_2(numbers):\n",
    "    return sum(x % 2 == 0 for x in numbers)\n",
    "\n",
    "count_time(count_even_1)\n",
    "count_time(count_even_2)"
   ]
  },
  {
   "cell_type": "code",
   "execution_count": null,
   "id": "98371655",
   "metadata": {},
   "outputs": [],
   "source": []
  }
 ],
 "metadata": {
  "kernelspec": {
   "display_name": "base",
   "language": "python",
   "name": "python3"
  },
  "language_info": {
   "codemirror_mode": {
    "name": "ipython",
    "version": 3
   },
   "file_extension": ".py",
   "mimetype": "text/x-python",
   "name": "python",
   "nbconvert_exporter": "python",
   "pygments_lexer": "ipython3",
   "version": "3.12.9"
  }
 },
 "nbformat": 4,
 "nbformat_minor": 5
}
